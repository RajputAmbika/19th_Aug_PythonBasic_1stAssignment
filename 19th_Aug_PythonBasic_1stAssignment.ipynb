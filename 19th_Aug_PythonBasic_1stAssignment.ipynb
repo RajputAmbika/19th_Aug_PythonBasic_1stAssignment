{
 "cells": [
  {
   "cell_type": "code",
   "execution_count": 1,
   "id": "227fc552-8de7-4ece-b037-c9015cf39167",
   "metadata": {},
   "outputs": [],
   "source": [
    "# Python code to swap two numbers without using another variable"
   ]
  },
  {
   "cell_type": "code",
   "execution_count": 2,
   "id": "bfd292ef-5d19-4fdf-ba8b-30250918ac25",
   "metadata": {},
   "outputs": [],
   "source": [
    "x=5"
   ]
  },
  {
   "cell_type": "code",
   "execution_count": 3,
   "id": "65e7bac2-8af4-4978-b92f-da845e9661ed",
   "metadata": {},
   "outputs": [],
   "source": [
    "y=7"
   ]
  },
  {
   "cell_type": "code",
   "execution_count": 10,
   "id": "89480e92-5cad-4a25-9710-f85ac22b7fe8",
   "metadata": {},
   "outputs": [
    {
     "name": "stdout",
     "output_type": "stream",
     "text": [
      "Before Swapping: Value of x= 5 Value of y= 7\n"
     ]
    }
   ],
   "source": [
    "print(\"Before Swapping: Value of x=\", x, \"Value of y=\", y)"
   ]
  },
  {
   "cell_type": "code",
   "execution_count": 11,
   "id": "400ae86d-7306-4226-a86e-33788b53f618",
   "metadata": {},
   "outputs": [],
   "source": [
    "#code to swap x and y"
   ]
  },
  {
   "cell_type": "code",
   "execution_count": 12,
   "id": "717180f4-337c-4191-92eb-4f0de93ed3b3",
   "metadata": {},
   "outputs": [],
   "source": [
    "x,y = y,x"
   ]
  },
  {
   "cell_type": "code",
   "execution_count": 13,
   "id": "1cda7409-b9b4-4b70-a4ab-fd1aa3693b07",
   "metadata": {},
   "outputs": [
    {
     "name": "stdout",
     "output_type": "stream",
     "text": [
      "After Swapping: Value of x= 7 Value of y= 5\n"
     ]
    }
   ],
   "source": [
    "print(\"After Swapping: Value of x=\", x, \"Value of y=\", y)"
   ]
  },
  {
   "cell_type": "code",
   "execution_count": 17,
   "id": "1a4aa4f5-a025-4829-bbb4-2b1b31625d92",
   "metadata": {},
   "outputs": [],
   "source": [
    "#Question 2: Create a program that calculates the area of a rectangle. Take the\n",
    "#length and width as inputs from the user and store them in variables.\n",
    "#Calculate and display the area.\n",
    "\n"
   ]
  },
  {
   "cell_type": "code",
   "execution_count": 18,
   "id": "0e7e3b25-0148-4a81-9b9c-b5d1918f810a",
   "metadata": {},
   "outputs": [],
   "source": [
    "#Take input for length and width from user and convert them into integer"
   ]
  },
  {
   "cell_type": "code",
   "execution_count": 1,
   "id": "dc2e8960-2af4-4a46-a7e0-83453e2089bd",
   "metadata": {},
   "outputs": [
    {
     "name": "stdin",
     "output_type": "stream",
     "text": [
      "Enter the length of rectangle =  6\n"
     ]
    }
   ],
   "source": [
    "Length= int(input(\"Enter the length of rectangle = \"))"
   ]
  },
  {
   "cell_type": "code",
   "execution_count": 2,
   "id": "890e1950-cd9b-4063-b555-e9b5b1758090",
   "metadata": {},
   "outputs": [
    {
     "name": "stdin",
     "output_type": "stream",
     "text": [
      "Enter the width of the rectangle =  8\n"
     ]
    }
   ],
   "source": [
    "Width= int(input(\"Enter the width of the rectangle = \"))"
   ]
  },
  {
   "cell_type": "code",
   "execution_count": 3,
   "id": "0b37453d-0248-4dfb-b27e-8f624b2b3e3a",
   "metadata": {},
   "outputs": [],
   "source": [
    "#Calculation of area and store it in a variable name a"
   ]
  },
  {
   "cell_type": "code",
   "execution_count": 4,
   "id": "b7d37b5d-9709-4ce0-a77a-27a4d6832f10",
   "metadata": {},
   "outputs": [],
   "source": [
    "a = Length * Width"
   ]
  },
  {
   "cell_type": "code",
   "execution_count": 5,
   "id": "6ae661e6-cfca-4d6d-a5c6-0888522bd1bb",
   "metadata": {},
   "outputs": [],
   "source": [
    "#Display the of area"
   ]
  },
  {
   "cell_type": "code",
   "execution_count": 6,
   "id": "111e83e5-c474-4851-972e-417e81212f61",
   "metadata": {},
   "outputs": [
    {
     "name": "stdout",
     "output_type": "stream",
     "text": [
      "Area of rectangle =48\n"
     ]
    }
   ],
   "source": [
    "print(\"Area of rectangle =\" + str(a))"
   ]
  },
  {
   "cell_type": "code",
   "execution_count": 8,
   "id": "e78637bf-7d78-449a-99f5-a099de1c6c50",
   "metadata": {},
   "outputs": [
    {
     "data": {
      "text/plain": [
       "'Question 3:-  Write a Python program that converts temperature from Celsius to\\nFahrenheit. Take the temperature in Celsius as input, store it in a\\nvariable, convert it to Fahrenheit, and display the result.'"
      ]
     },
     "execution_count": 8,
     "metadata": {},
     "output_type": "execute_result"
    }
   ],
   "source": [
    "'''Question 3:-  Write a Python program that converts temperature from Celsius to\n",
    "Fahrenheit. Take the temperature in Celsius as input, store it in a\n",
    "variable, convert it to Fahrenheit, and display the result.'''\n"
   ]
  },
  {
   "cell_type": "code",
   "execution_count": 1,
   "id": "13bb9e00-6bb6-4cf3-a3d9-f1750aaa7e04",
   "metadata": {},
   "outputs": [],
   "source": [
    "# Take input in celsius from user and convert into integer and store in a variable name celsius   "
   ]
  },
  {
   "cell_type": "code",
   "execution_count": 2,
   "id": "465ba9dc-e3ae-454b-a985-49f0f2ec0cb9",
   "metadata": {},
   "outputs": [
    {
     "name": "stdin",
     "output_type": "stream",
     "text": [
      "Enter the Temperature in Celsius : 56\n"
     ]
    }
   ],
   "source": [
    "    celsius = int(input(\"Enter the Temperature in Celsius :\"))"
   ]
  },
  {
   "cell_type": "code",
   "execution_count": 3,
   "id": "5c965827-d869-4cf8-9b68-94efe85df62e",
   "metadata": {},
   "outputs": [],
   "source": [
    "#Apply Celsius to Fahrenheit convertion formula and store in variable name fahrenheit "
   ]
  },
  {
   "cell_type": "code",
   "execution_count": 4,
   "id": "a905e7aa-0236-4127-85b1-a16ecec4fbf2",
   "metadata": {},
   "outputs": [],
   "source": [
    "fahrenheit = (1.8 * celsius) + 32"
   ]
  },
  {
   "cell_type": "code",
   "execution_count": 5,
   "id": "8ac171a1-2595-456a-98f7-de9a88376394",
   "metadata": {},
   "outputs": [],
   "source": [
    "# Display the result"
   ]
  },
  {
   "cell_type": "code",
   "execution_count": 6,
   "id": "0c8d5a10-92ef-4d91-9345-c290b39db29d",
   "metadata": {},
   "outputs": [
    {
     "name": "stdout",
     "output_type": "stream",
     "text": [
      "Temperature in Fahrenheit : 132.8\n"
     ]
    }
   ],
   "source": [
    "print(\"Temperature in Fahrenheit :\", fahrenheit)"
   ]
  },
  {
   "cell_type": "code",
   "execution_count": null,
   "id": "fea4c2ae-08ad-4f5a-9a26-77601778cba7",
   "metadata": {},
   "outputs": [],
   "source": []
  },
  {
   "cell_type": "code",
   "execution_count": 7,
   "id": "cf8923eb-9489-48b8-a009-00d27f54932e",
   "metadata": {},
   "outputs": [
    {
     "data": {
      "text/plain": [
       "'TOPIC: String Based Questions\\n1. Write a Python program that takes a string as input and prints the\\nlength of the string.'"
      ]
     },
     "execution_count": 7,
     "metadata": {},
     "output_type": "execute_result"
    }
   ],
   "source": [
    "'''TOPIC: String Based Questions\n",
    "1. Write a Python program that takes a string as input and prints the\n",
    "length of the string.'''\n"
   ]
  },
  {
   "cell_type": "code",
   "execution_count": 8,
   "id": "54cb06ef-ae0d-47c9-b36f-20bc5fddfe8c",
   "metadata": {},
   "outputs": [],
   "source": [
    "# Take input from user for the string and store it in a variable name string"
   ]
  },
  {
   "cell_type": "code",
   "execution_count": 9,
   "id": "155304d6-7c0a-4148-909e-18bb01fc6eb6",
   "metadata": {},
   "outputs": [
    {
     "name": "stdin",
     "output_type": "stream",
     "text": [
      "Enter the string :  ambika\n"
     ]
    }
   ],
   "source": [
    "string= input(\"Enter the string : \")"
   ]
  },
  {
   "cell_type": "code",
   "execution_count": null,
   "id": "d5f92f3b-102c-4f2b-ba3c-289e99aa06a8",
   "metadata": {},
   "outputs": [],
   "source": [
    "# Display the length of the entered string"
   ]
  },
  {
   "cell_type": "code",
   "execution_count": 22,
   "id": "4523e5a6-182c-4277-9b3e-f60f0d116ae3",
   "metadata": {},
   "outputs": [
    {
     "name": "stdout",
     "output_type": "stream",
     "text": [
      "Length of the entered string is : 6\n"
     ]
    }
   ],
   "source": [
    "print(\"Length of the entered string is :\", len(string))"
   ]
  },
  {
   "cell_type": "code",
   "execution_count": null,
   "id": "eaaf7b9d-59b9-4aeb-8658-b69ceee450ba",
   "metadata": {},
   "outputs": [],
   "source": []
  },
  {
   "cell_type": "code",
   "execution_count": 11,
   "id": "61f51e54-05d9-467d-b3eb-34f599ea12b4",
   "metadata": {},
   "outputs": [],
   "source": [
    "#2. Create a program that takes a sentence from the user and counts the number of vowels (a, e, i, o, u) in the string.\n"
   ]
  },
  {
   "cell_type": "code",
   "execution_count": 12,
   "id": "ca67d4a8-fcee-47ae-bb79-2e012da52da9",
   "metadata": {},
   "outputs": [
    {
     "name": "stdin",
     "output_type": "stream",
     "text": [
      "Enter the string :  rajput\n"
     ]
    }
   ],
   "source": [
    "string = input(\"Enter the string : \")"
   ]
  },
  {
   "cell_type": "code",
   "execution_count": 13,
   "id": "4cb2c173-57c7-4a32-b888-a8dfc08ddde8",
   "metadata": {},
   "outputs": [],
   "source": [
    "vowels = \"aeiouAEIOU\""
   ]
  },
  {
   "cell_type": "code",
   "execution_count": 14,
   "id": "b92dcc12-53ca-497e-9254-0814de2d66f3",
   "metadata": {},
   "outputs": [],
   "source": [
    "count = sum(string.count(vowel) for vowel in vowels)"
   ]
  },
  {
   "cell_type": "code",
   "execution_count": 20,
   "id": "474d2835-2b37-4fcb-b46a-7b57e2d4695f",
   "metadata": {},
   "outputs": [
    {
     "data": {
      "text/plain": [
       "2"
      ]
     },
     "execution_count": 20,
     "metadata": {},
     "output_type": "execute_result"
    }
   ],
   "source": [
    "count"
   ]
  },
  {
   "cell_type": "code",
   "execution_count": 16,
   "id": "4a3d89a9-3145-44ed-9087-dfdd28830384",
   "metadata": {},
   "outputs": [],
   "source": [
    "#3. Given a string, reverse the order of characters using string slicing and print the reversed string."
   ]
  },
  {
   "cell_type": "code",
   "execution_count": 23,
   "id": "60d0a502-cc96-44dd-b233-79a67e665289",
   "metadata": {},
   "outputs": [],
   "source": [
    "string1 = \"Hello World!\""
   ]
  },
  {
   "cell_type": "code",
   "execution_count": 24,
   "id": "06003699-03d2-430e-8f40-a35385f0e57d",
   "metadata": {},
   "outputs": [],
   "source": [
    "#reverse the order of characters using string slicing"
   ]
  },
  {
   "cell_type": "code",
   "execution_count": 25,
   "id": "373bdeb4-c53d-40b9-a07f-73b88216e06e",
   "metadata": {},
   "outputs": [],
   "source": [
    "s = string1[::-1]"
   ]
  },
  {
   "cell_type": "code",
   "execution_count": 26,
   "id": "42d128c4-9528-48f1-a936-d2f2fa17ecf9",
   "metadata": {},
   "outputs": [],
   "source": [
    "#display the output"
   ]
  },
  {
   "cell_type": "code",
   "execution_count": 27,
   "id": "2f175725-8e4d-4ea5-bd28-7442b0686ab5",
   "metadata": {},
   "outputs": [
    {
     "data": {
      "text/plain": [
       "'!dlroW olleH'"
      ]
     },
     "execution_count": 27,
     "metadata": {},
     "output_type": "execute_result"
    }
   ],
   "source": [
    "s"
   ]
  },
  {
   "cell_type": "code",
   "execution_count": 1,
   "id": "a92fd7d6-1094-4042-bc06-5e5c3762c0ab",
   "metadata": {},
   "outputs": [],
   "source": [
    "# 4. Write a program that takes a string as input and checks if it is a palindrome (reads the same forwards and backwards)."
   ]
  },
  {
   "cell_type": "code",
   "execution_count": 6,
   "id": "c9ad0dc0-d7d5-4a93-b828-32fbf3a6d85f",
   "metadata": {},
   "outputs": [
    {
     "name": "stdin",
     "output_type": "stream",
     "text": [
      "Enter a string: wow\n"
     ]
    }
   ],
   "source": [
    "str2=input(\"Enter a string:\")"
   ]
  },
  {
   "cell_type": "code",
   "execution_count": 7,
   "id": "fa53e856-d8f7-4cec-8111-3904cc21d71f",
   "metadata": {},
   "outputs": [],
   "source": [
    "str3 = str2[::-1]"
   ]
  },
  {
   "cell_type": "code",
   "execution_count": 8,
   "id": "4e697406-382d-45b4-b0c0-4c316235cf61",
   "metadata": {},
   "outputs": [
    {
     "data": {
      "text/plain": [
       "'wow'"
      ]
     },
     "execution_count": 8,
     "metadata": {},
     "output_type": "execute_result"
    }
   ],
   "source": [
    "str3"
   ]
  },
  {
   "cell_type": "code",
   "execution_count": 9,
   "id": "80027a65-cd6f-4ed1-9538-223592153141",
   "metadata": {},
   "outputs": [
    {
     "name": "stdout",
     "output_type": "stream",
     "text": [
      "The entered string is Palindrome\n"
     ]
    }
   ],
   "source": [
    "if (str2 == str3):\n",
    "    print(\"The entered string is Palindrome\")\n",
    "else:\n",
    "    print(\"The entered string is not a Palindrome\")\n",
    "    \n"
   ]
  },
  {
   "cell_type": "code",
   "execution_count": null,
   "id": "24ecaa20-5da7-4ca7-8c64-acb8713c55ec",
   "metadata": {},
   "outputs": [],
   "source": [
    "#5. Create a program that takes a string as input and removes all the spaces from it. Print the modified string without spaces."
   ]
  },
  {
   "cell_type": "code",
   "execution_count": 10,
   "id": "9540d5e2-450b-4f5c-a43c-66f3814bf99b",
   "metadata": {},
   "outputs": [
    {
     "name": "stdin",
     "output_type": "stream",
     "text": [
      "Enter the string with extra spaces:               ambika\n"
     ]
    }
   ],
   "source": [
    "str4=input(\"Enter the string with extra spaces: \")"
   ]
  },
  {
   "cell_type": "code",
   "execution_count": 14,
   "id": "3fdfb807-cd17-4cc2-8ef6-3c4cd46325d1",
   "metadata": {},
   "outputs": [],
   "source": [
    "# apply the strip funtion to remove extra spaces"
   ]
  },
  {
   "cell_type": "code",
   "execution_count": 14,
   "id": "54801886-3e37-4805-99c2-32a2b6235fab",
   "metadata": {},
   "outputs": [],
   "source": [
    "str5= str4.strip()"
   ]
  },
  {
   "cell_type": "code",
   "execution_count": 15,
   "id": "7d00ac6c-9328-4977-881f-18f4ef59d05f",
   "metadata": {},
   "outputs": [
    {
     "data": {
      "text/plain": [
       "'ambika'"
      ]
     },
     "execution_count": 15,
     "metadata": {},
     "output_type": "execute_result"
    }
   ],
   "source": [
    "str5"
   ]
  },
  {
   "cell_type": "code",
   "execution_count": null,
   "id": "32d78b39-d1ec-4b46-99e2-585a20a1a9ce",
   "metadata": {},
   "outputs": [],
   "source": []
  }
 ],
 "metadata": {
  "kernelspec": {
   "display_name": "Python 3 (ipykernel)",
   "language": "python",
   "name": "python3"
  },
  "language_info": {
   "codemirror_mode": {
    "name": "ipython",
    "version": 3
   },
   "file_extension": ".py",
   "mimetype": "text/x-python",
   "name": "python",
   "nbconvert_exporter": "python",
   "pygments_lexer": "ipython3",
   "version": "3.10.8"
  }
 },
 "nbformat": 4,
 "nbformat_minor": 5
}
